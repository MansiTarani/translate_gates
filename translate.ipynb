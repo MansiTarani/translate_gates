{
  "nbformat": 4,
  "nbformat_minor": 0,
  "metadata": {
    "colab": {
      "name": "translate.ipynb",
      "provenance": [],
      "collapsed_sections": []
    },
    "kernelspec": {
      "name": "python3",
      "display_name": "Python 3"
    }
  },
  "cells": [
    {
      "cell_type": "markdown",
      "metadata": {
        "id": "002ShB3FvjMI"
      },
      "source": [
        "Task 3\n",
        "Question\n",
        "\n",
        "Please write a simple compiler – program, which translates one quantum circuit into another, using a restricted set of gates.\n",
        "\n",
        "You need to consider just the basic gates for the input circuit, such as (I, H, X, Y, Z, RX, RY, RZ, CNOT, CZ).\n",
        "\n",
        "The output circuit should consist only from the following gates: RX, RZ, CZ. In other words, each gate in the original circuit must be replaced by an equivalent combination of gates coming from the restricted set (RX, RZ, CZ) only.\n",
        "\n",
        "For example, a Hadamard gate after compilation looks like this:\n",
        "\n",
        "RZ(pi/2)\n",
        "RX(pi/2)\n",
        "RZ(pi/2)\n",
        "\n",
        "Analyze what’s the overhead of the compiled program compared to the original one and propose how to improve it. What we mean by overhead is the following: by replacing all the initial gates with the restricted set of gates given in the problem, you will see that the resulting circuit is much more involved than the original one. This is what we called the overhead, and you may think about how to treat this problem, i.e. you could try to simplify as much as possible the resulting circuit.\n",
        "\n"
      ]
    },
    {
      "cell_type": "code",
      "metadata": {
        "id": "T8bjn-iknEcs",
        "outputId": "01f13ee5-e17a-41c1-ba09-06a7d727102f",
        "colab": {
          "base_uri": "https://localhost:8080/",
          "height": 1000
        }
      },
      "source": [
        "!pip install qiskit\n",
        "!pip install array_to_latex\n",
        "import matplotlib.pyplot as plt\n",
        "%matplotlib inline\n",
        "import numpy as np\n",
        "import math\n",
        "import array_to_latex as atl\n",
        "\n",
        "# importing Qiskit\n",
        "from qiskit import IBMQ, BasicAer, Aer\n",
        "from qiskit.providers.ibmq import least_busy\n",
        "from qiskit import QuantumCircuit, ClassicalRegister, QuantumRegister, execute\n",
        "from qiskit.quantum_info.operators import Operator\n",
        "from qiskit.quantum_info import Statevector\n",
        "\n",
        "# import basic plot tools\n",
        "from qiskit.tools.visualization import plot_histogram\n",
        "from qiskit.visualization import plot_bloch_multivector"
      ],
      "execution_count": 174,
      "outputs": [
        {
          "output_type": "stream",
          "text": [
            "Requirement already satisfied: qiskit in /usr/local/lib/python3.6/dist-packages (0.21.0)\n",
            "Requirement already satisfied: qiskit-ignis==0.4.0 in /usr/local/lib/python3.6/dist-packages (from qiskit) (0.4.0)\n",
            "Requirement already satisfied: qiskit-aer==0.6.1 in /usr/local/lib/python3.6/dist-packages (from qiskit) (0.6.1)\n",
            "Requirement already satisfied: qiskit-ibmq-provider==0.9.0 in /usr/local/lib/python3.6/dist-packages (from qiskit) (0.9.0)\n",
            "Requirement already satisfied: qiskit-aqua==0.7.5 in /usr/local/lib/python3.6/dist-packages (from qiskit) (0.7.5)\n",
            "Requirement already satisfied: qiskit-terra==0.15.2 in /usr/local/lib/python3.6/dist-packages (from qiskit) (0.15.2)\n",
            "Requirement already satisfied: scikit-learn>=0.17 in /usr/local/lib/python3.6/dist-packages (from qiskit-ignis==0.4.0->qiskit) (0.22.2.post1)\n",
            "Requirement already satisfied: setuptools>=40.1.0 in /usr/local/lib/python3.6/dist-packages (from qiskit-ignis==0.4.0->qiskit) (50.3.0)\n",
            "Requirement already satisfied: numpy>=1.13 in /usr/local/lib/python3.6/dist-packages (from qiskit-ignis==0.4.0->qiskit) (1.18.5)\n",
            "Requirement already satisfied: scipy!=0.19.1,>=0.19 in /usr/local/lib/python3.6/dist-packages (from qiskit-ignis==0.4.0->qiskit) (1.4.1)\n",
            "Requirement already satisfied: cython>=0.27.1 in /usr/local/lib/python3.6/dist-packages (from qiskit-aer==0.6.1->qiskit) (0.29.21)\n",
            "Requirement already satisfied: pybind11>=2.4 in /usr/local/lib/python3.6/dist-packages (from qiskit-aer==0.6.1->qiskit) (2.5.0)\n",
            "Requirement already satisfied: urllib3>=1.21.1 in /usr/local/lib/python3.6/dist-packages (from qiskit-ibmq-provider==0.9.0->qiskit) (1.24.3)\n",
            "Requirement already satisfied: requests>=2.19 in /usr/local/lib/python3.6/dist-packages (from qiskit-ibmq-provider==0.9.0->qiskit) (2.23.0)\n",
            "Requirement already satisfied: python-dateutil>=2.8.0 in /usr/local/lib/python3.6/dist-packages (from qiskit-ibmq-provider==0.9.0->qiskit) (2.8.1)\n",
            "Requirement already satisfied: websockets<8,>=7; python_version <= \"3.6\" in /usr/local/lib/python3.6/dist-packages (from qiskit-ibmq-provider==0.9.0->qiskit) (7.0)\n",
            "Requirement already satisfied: nest-asyncio!=1.1.0,>=1.0.0 in /usr/local/lib/python3.6/dist-packages (from qiskit-ibmq-provider==0.9.0->qiskit) (1.4.0)\n",
            "Requirement already satisfied: requests-ntlm>=1.1.0 in /usr/local/lib/python3.6/dist-packages (from qiskit-ibmq-provider==0.9.0->qiskit) (1.1.0)\n",
            "Requirement already satisfied: psutil>=5 in /usr/local/lib/python3.6/dist-packages (from qiskit-aqua==0.7.5->qiskit) (5.4.8)\n",
            "Requirement already satisfied: dlx in /usr/local/lib/python3.6/dist-packages (from qiskit-aqua==0.7.5->qiskit) (1.0.4)\n",
            "Requirement already satisfied: docplex in /usr/local/lib/python3.6/dist-packages (from qiskit-aqua==0.7.5->qiskit) (2.15.194)\n",
            "Requirement already satisfied: pandas in /usr/local/lib/python3.6/dist-packages (from qiskit-aqua==0.7.5->qiskit) (1.0.5)\n",
            "Requirement already satisfied: networkx>=2.2 in /usr/local/lib/python3.6/dist-packages (from qiskit-aqua==0.7.5->qiskit) (2.5)\n",
            "Requirement already satisfied: sympy>=1.3 in /usr/local/lib/python3.6/dist-packages (from qiskit-aqua==0.7.5->qiskit) (1.6.2)\n",
            "Requirement already satisfied: quandl in /usr/local/lib/python3.6/dist-packages (from qiskit-aqua==0.7.5->qiskit) (3.5.2)\n",
            "Requirement already satisfied: yfinance in /usr/local/lib/python3.6/dist-packages (from qiskit-aqua==0.7.5->qiskit) (0.1.54)\n",
            "Requirement already satisfied: h5py in /usr/local/lib/python3.6/dist-packages (from qiskit-aqua==0.7.5->qiskit) (2.10.0)\n",
            "Requirement already satisfied: fastdtw in /usr/local/lib/python3.6/dist-packages (from qiskit-aqua==0.7.5->qiskit) (0.3.4)\n",
            "Requirement already satisfied: contextvars>=2.4; python_version < \"3.7\" in /usr/local/lib/python3.6/dist-packages (from qiskit-terra==0.15.2->qiskit) (2.4)\n",
            "Requirement already satisfied: python-constraint>=1.4 in /usr/local/lib/python3.6/dist-packages (from qiskit-terra==0.15.2->qiskit) (1.4.0)\n",
            "Requirement already satisfied: ply>=3.10 in /usr/local/lib/python3.6/dist-packages (from qiskit-terra==0.15.2->qiskit) (3.11)\n",
            "Requirement already satisfied: retworkx>=0.4.0 in /usr/local/lib/python3.6/dist-packages (from qiskit-terra==0.15.2->qiskit) (0.5.0)\n",
            "Requirement already satisfied: jsonschema>=2.6 in /usr/local/lib/python3.6/dist-packages (from qiskit-terra==0.15.2->qiskit) (2.6.0)\n",
            "Requirement already satisfied: fastjsonschema>=2.10 in /usr/local/lib/python3.6/dist-packages (from qiskit-terra==0.15.2->qiskit) (2.14.5)\n",
            "Requirement already satisfied: dill>=0.3 in /usr/local/lib/python3.6/dist-packages (from qiskit-terra==0.15.2->qiskit) (0.3.2)\n",
            "Requirement already satisfied: joblib>=0.11 in /usr/local/lib/python3.6/dist-packages (from scikit-learn>=0.17->qiskit-ignis==0.4.0->qiskit) (0.16.0)\n",
            "Requirement already satisfied: idna<3,>=2.5 in /usr/local/lib/python3.6/dist-packages (from requests>=2.19->qiskit-ibmq-provider==0.9.0->qiskit) (2.10)\n",
            "Requirement already satisfied: chardet<4,>=3.0.2 in /usr/local/lib/python3.6/dist-packages (from requests>=2.19->qiskit-ibmq-provider==0.9.0->qiskit) (3.0.4)\n",
            "Requirement already satisfied: certifi>=2017.4.17 in /usr/local/lib/python3.6/dist-packages (from requests>=2.19->qiskit-ibmq-provider==0.9.0->qiskit) (2020.6.20)\n",
            "Requirement already satisfied: six>=1.5 in /usr/local/lib/python3.6/dist-packages (from python-dateutil>=2.8.0->qiskit-ibmq-provider==0.9.0->qiskit) (1.15.0)\n",
            "Requirement already satisfied: cryptography>=1.3 in /usr/local/lib/python3.6/dist-packages (from requests-ntlm>=1.1.0->qiskit-ibmq-provider==0.9.0->qiskit) (3.1.1)\n",
            "Requirement already satisfied: ntlm-auth>=1.0.2 in /usr/local/lib/python3.6/dist-packages (from requests-ntlm>=1.1.0->qiskit-ibmq-provider==0.9.0->qiskit) (1.5.0)\n",
            "Requirement already satisfied: pytz>=2017.2 in /usr/local/lib/python3.6/dist-packages (from pandas->qiskit-aqua==0.7.5->qiskit) (2018.9)\n",
            "Requirement already satisfied: decorator>=4.3.0 in /usr/local/lib/python3.6/dist-packages (from networkx>=2.2->qiskit-aqua==0.7.5->qiskit) (4.4.2)\n",
            "Requirement already satisfied: mpmath>=0.19 in /usr/local/lib/python3.6/dist-packages (from sympy>=1.3->qiskit-aqua==0.7.5->qiskit) (1.1.0)\n",
            "Requirement already satisfied: inflection>=0.3.1 in /usr/local/lib/python3.6/dist-packages (from quandl->qiskit-aqua==0.7.5->qiskit) (0.5.1)\n",
            "Requirement already satisfied: more-itertools in /usr/local/lib/python3.6/dist-packages (from quandl->qiskit-aqua==0.7.5->qiskit) (8.5.0)\n",
            "Requirement already satisfied: multitasking>=0.0.7 in /usr/local/lib/python3.6/dist-packages (from yfinance->qiskit-aqua==0.7.5->qiskit) (0.0.9)\n",
            "Requirement already satisfied: immutables>=0.9 in /usr/local/lib/python3.6/dist-packages (from contextvars>=2.4; python_version < \"3.7\"->qiskit-terra==0.15.2->qiskit) (0.14)\n",
            "Requirement already satisfied: cffi!=1.11.3,>=1.8 in /usr/local/lib/python3.6/dist-packages (from cryptography>=1.3->requests-ntlm>=1.1.0->qiskit-ibmq-provider==0.9.0->qiskit) (1.14.2)\n",
            "Requirement already satisfied: pycparser in /usr/local/lib/python3.6/dist-packages (from cffi!=1.11.3,>=1.8->cryptography>=1.3->requests-ntlm>=1.1.0->qiskit-ibmq-provider==0.9.0->qiskit) (2.20)\n",
            "Requirement already satisfied: array_to_latex in /usr/local/lib/python3.6/dist-packages (0.82)\n",
            "Requirement already satisfied: numpy in /usr/local/lib/python3.6/dist-packages (from array_to_latex) (1.18.5)\n",
            "Requirement already satisfied: clipboard in /usr/local/lib/python3.6/dist-packages (from array_to_latex) (0.0.4)\n",
            "Requirement already satisfied: pandas in /usr/local/lib/python3.6/dist-packages (from array_to_latex) (1.0.5)\n",
            "Requirement already satisfied: pyperclip>=1.3 in /usr/local/lib/python3.6/dist-packages (from clipboard->array_to_latex) (1.8.0)\n",
            "Requirement already satisfied: pytz>=2017.2 in /usr/local/lib/python3.6/dist-packages (from pandas->array_to_latex) (2018.9)\n",
            "Requirement already satisfied: python-dateutil>=2.6.1 in /usr/local/lib/python3.6/dist-packages (from pandas->array_to_latex) (2.8.1)\n",
            "Requirement already satisfied: six>=1.5 in /usr/local/lib/python3.6/dist-packages (from python-dateutil>=2.6.1->pandas->array_to_latex) (1.15.0)\n"
          ],
          "name": "stdout"
        }
      ]
    },
    {
      "cell_type": "code",
      "metadata": {
        "id": "7FnqSoBSpfNE"
      },
      "source": [
        "backend = Aer.get_backend('statevector_simulator') "
      ],
      "execution_count": 175,
      "outputs": []
    },
    {
      "cell_type": "code",
      "metadata": {
        "id": "qOumEtq07Kni"
      },
      "source": [
        "#FOR HADAMARD GATE\n",
        "def hg(qubit1):\n",
        "    circuit.rz(np.pi/2,qubit1)\n",
        "    circuit.rx(np.pi/2,qubit1)\n",
        "    circuit.rz(np.pi/2,qubit1)\n",
        "\n",
        "\n",
        "    # ADDING GLOBAL PHASE\n",
        "    circuit.global_phase=np.pi/2"
      ],
      "execution_count": 176,
      "outputs": []
    },
    {
      "cell_type": "code",
      "metadata": {
        "id": "CivPwpOd8YeK"
      },
      "source": [
        "#FOR I GATE\n",
        "def ig(qubit1):\n",
        "    #qi=QuantumCircuit(1)\n",
        "    circuit.rz(0,qubit1)\n",
        "    circuit.rx(0,qubit1)\n",
        "    circuit.rz(0,qubit1)\n"
      ],
      "execution_count": 177,
      "outputs": []
    },
    {
      "cell_type": "code",
      "metadata": {
        "id": "69HuUlsl9hSL"
      },
      "source": [
        "#FOR X GATE\n",
        "def xg(qubit1): \n",
        "    circuit.rx(np.pi,qubit1)\n",
        "\n",
        "\n",
        "    # ADDING GLOBAL PHASE\n",
        "    circuit.global_phase=np.pi/2\n"
      ],
      "execution_count": 178,
      "outputs": []
    },
    {
      "cell_type": "code",
      "metadata": {
        "id": "TyG8TBJw-qaT"
      },
      "source": [
        "#FOR Y GATE\n",
        "def yg(qubit1):\n",
        "    #circuit=QuantumCircuit(2) \n",
        "    circuit.rz(0,qubit1)\n",
        "    circuit.rx(np.pi,qubit1)\n",
        "    circuit.rz(0,qubit1)\n",
        "    circuit.cz(0,1)\n",
        "\n",
        "\n",
        "     # ADDING GLOBAL PHASE\n",
        "    circuit.global_phase=np.pi"
      ],
      "execution_count": 179,
      "outputs": []
    },
    {
      "cell_type": "code",
      "metadata": {
        "id": "XZU40FAkAU7u"
      },
      "source": [
        "# FOR Z GATE\n",
        "def zg(qubit1):\n",
        "    #circuit=QuantumCircuit(1) \n",
        "    circuit.rz(np.pi,qubit1)\n",
        "\n",
        "\n",
        "    # ADDING GLOBAL PHASE\n",
        "    circuit.global_phase=np.pi/2"
      ],
      "execution_count": 180,
      "outputs": []
    },
    {
      "cell_type": "code",
      "metadata": {
        "id": "LFVpxPJeBBce"
      },
      "source": [
        "#FOR RX GATE\n",
        "def rxg(qubit1,theta=0):\n",
        "    circuit.rx(theta,qubit1)\n"
      ],
      "execution_count": 181,
      "outputs": []
    },
    {
      "cell_type": "code",
      "metadata": {
        "id": "E3YF4SvRBtvx"
      },
      "source": [
        "#FOR Ry GATE\n",
        "def ryg(qubit1,theta=0): \n",
        "    circuit.rz(3*np.pi/2,qubit1)\n",
        "    circuit.rx(theta,qubit1)\n",
        "    circuit.rz(np.pi/2,qubit1)\n",
        "    #circuit.cz(0,1)\n",
        "\n",
        "\n",
        "      # ADDING GLOBAL PHASE\n",
        "    circuit.global_phase=np.pi\n",
        "  \n"
      ],
      "execution_count": 182,
      "outputs": []
    },
    {
      "cell_type": "code",
      "metadata": {
        "id": "4zcjJ1ptDLZH"
      },
      "source": [
        "#FOR RZ GATE\n",
        "def rzg(qubit1,theta=0): \n",
        "    circuit.rz(theta,qubit1)\n",
        "    \n"
      ],
      "execution_count": 183,
      "outputs": []
    },
    {
      "cell_type": "code",
      "metadata": {
        "id": "r_X4yVkKDwJo"
      },
      "source": [
        "#FOR CX GATE\n",
        "def cxg(qubit1,qubit2): \n",
        "    circuit.rz(np.pi/2,qubit1)\n",
        "    circuit.rx(np.pi/2,qubit1)\n",
        "    circuit.rz(np.pi/2,qubit1)\n",
        "    circuit.cz(qubit1,qubit2)\n",
        "    circuit.rz(np.pi/2,qubit1)\n",
        "    circuit.rx(np.pi/2,qubit1)\n",
        "    circuit.rz(np.pi/2,qubit1)\n",
        "    \n",
        "\n",
        "    #APPLYING GLOBAL PHASE\n",
        "    circuit.global_phase=np.pi\n"
      ],
      "execution_count": 184,
      "outputs": []
    },
    {
      "cell_type": "code",
      "metadata": {
        "id": "BYwzQ4bvEptH"
      },
      "source": [
        "#FOR CZ GATE\n",
        "def czg(qubit1,qubit2): \n",
        "    circuit.cz(qubit1,qubit2)\n",
        "    \n"
      ],
      "execution_count": 185,
      "outputs": []
    },
    {
      "cell_type": "code",
      "metadata": {
        "id": "teurgb3NHNvu"
      },
      "source": [
        "def decompose(gate, qubit1=0, qubit2=1, theta=0):\n",
        "    if (gate=='h'):\n",
        "      hg(qubit1)\n",
        "\n",
        "    elif (gate=='x'):\n",
        "      xg(qubit1) \n",
        "\n",
        "    elif (gate=='y'):\n",
        "      yg(qubit1)\n",
        "\n",
        "    elif (gate=='z'):\n",
        "      zg(qubit1)\n",
        "\n",
        "    elif (gate=='i'):\n",
        "      ig(qubit1)\n",
        "\n",
        "    elif (gate=='rx'):\n",
        "      rxg(qubit1,theta)\n",
        "\n",
        "    elif (gate=='ry'):\n",
        "      ryg(qubit1,theta)\n",
        "\n",
        "    elif (gate=='rz'):\n",
        "      rzg(qubit1,theta)\n",
        "\n",
        "    elif (gate=='cx'):\n",
        "      cxg(qubit1,qubit2)   \n",
        "\n",
        "    elif (gate=='cz'):\n",
        "      czg(qubit1,qubit2)"
      ],
      "execution_count": 186,
      "outputs": []
    },
    {
      "cell_type": "markdown",
      "metadata": {
        "id": "Z0eotxXdv4Z6"
      },
      "source": [
        "Now we will show the correctness of our code by taking the example of hardamard gate and translate it in terms of restricted set of gates"
      ]
    },
    {
      "cell_type": "code",
      "metadata": {
        "id": "-FvEc_d0I7Nc",
        "outputId": "79736309-8f19-4558-a7a5-d1ff6fa9ab13",
        "colab": {
          "base_uri": "https://localhost:8080/",
          "height": 166
        }
      },
      "source": [
        "#all gates we want to apply\n",
        "circ=QuantumCircuit(2)                           #here circ is the original circuit in which required gates are applied\n",
        "circuit=QuantumCircuit(2)                        #circuit is taken for our code\n",
        "circ.h(0)\n",
        "print(\"old circuit and its statevextor\")\n",
        "atl.to_ltx(Statevector.from_instruction(circ).data)\n",
        "circ.draw()\n"
      ],
      "execution_count": 187,
      "outputs": [
        {
          "output_type": "stream",
          "text": [
            "old circuit and its statevextor\n",
            "\\begin{bmatrix}\n",
            "  0.71 + 0.00j &  0.71 + 0.00j &  0.00 + 0.00j &  0.00 + 0.00j\n",
            "\\end{bmatrix}\n"
          ],
          "name": "stdout"
        },
        {
          "output_type": "execute_result",
          "data": {
            "text/html": [
              "<pre style=\"word-wrap: normal;white-space: pre;background: #fff0;line-height: 1.1;font-family: &quot;Courier New&quot;,Courier,monospace\">     ┌───┐\n",
              "q_0: ┤ H ├\n",
              "     └───┘\n",
              "q_1: ─────\n",
              "          </pre>"
            ],
            "text/plain": [
              "     ┌───┐\n",
              "q_0: ┤ H ├\n",
              "     └───┘\n",
              "q_1: ─────\n",
              "          "
            ]
          },
          "metadata": {
            "tags": []
          },
          "execution_count": 187
        }
      ]
    },
    {
      "cell_type": "code",
      "metadata": {
        "id": "ShMymb2yzvpd",
        "outputId": "1f5003d0-25e1-41a8-e1af-5e6315ffde76",
        "colab": {
          "base_uri": "https://localhost:8080/",
          "height": 181
        }
      },
      "source": [
        "#on decomposing\n",
        "decompose('h',0)\n",
        "print(\"translated circuit and its statevector\")\n",
        "circ=circuit\n",
        "atl.to_ltx(Statevector.from_instruction(circ).data)\n",
        "circ.draw()"
      ],
      "execution_count": 188,
      "outputs": [
        {
          "output_type": "stream",
          "text": [
            "translated circuit and its statevector\n",
            "\\begin{bmatrix}\n",
            "  0.71 + 0.00j &  0.71 + 0.00j &  0.00 + 0.00j &  0.00 + 0.00j\n",
            "\\end{bmatrix}\n"
          ],
          "name": "stdout"
        },
        {
          "output_type": "execute_result",
          "data": {
            "text/html": [
              "<pre style=\"word-wrap: normal;white-space: pre;background: #fff0;line-height: 1.1;font-family: &quot;Courier New&quot;,Courier,monospace\">global phase: pi/2\n",
              "     ┌──────────┐┌──────────┐┌──────────┐\n",
              "q_0: ┤ RZ(pi/2) ├┤ RX(pi/2) ├┤ RZ(pi/2) ├\n",
              "     └──────────┘└──────────┘└──────────┘\n",
              "q_1: ────────────────────────────────────\n",
              "                                         </pre>"
            ],
            "text/plain": [
              "global phase: pi/2\n",
              "     ┌──────────┐┌──────────┐┌──────────┐\n",
              "q_0: ┤ RZ(pi/2) ├┤ RX(pi/2) ├┤ RZ(pi/2) ├\n",
              "     └──────────┘└──────────┘└──────────┘\n",
              "q_1: ────────────────────────────────────\n",
              "                                         "
            ]
          },
          "metadata": {
            "tags": []
          },
          "execution_count": 188
        }
      ]
    },
    {
      "cell_type": "markdown",
      "metadata": {
        "id": "Bi5zTiSXyJlE"
      },
      "source": [
        "Now we will apply gates XYZ to circuit"
      ]
    },
    {
      "cell_type": "code",
      "metadata": {
        "id": "JnTk2mDos2F2",
        "outputId": "83c4e758-3b0a-4c1d-ced6-2d4c87c908bb",
        "colab": {
          "base_uri": "https://localhost:8080/",
          "height": 166
        }
      },
      "source": [
        "#all gates we want to apply\n",
        "circ=QuantumCircuit(2)                           #here circ is the original circuit in which required gates are applied\n",
        "circuit=QuantumCircuit(2)                        #circuit is taken for our code\n",
        "circ.x(0)\n",
        "circ.y(0)\n",
        "circ.z(0)\n",
        "print(\"old circuit and its statevextor\")\n",
        "atl.to_ltx(Statevector.from_instruction(circ).data)\n",
        "circ.draw()\n"
      ],
      "execution_count": 189,
      "outputs": [
        {
          "output_type": "stream",
          "text": [
            "old circuit and its statevextor\n",
            "\\begin{bmatrix}\n",
            "  0.00 + -1.00j &  0.00 + 0.00j &  0.00 + 0.00j &  0.00 + 0.00j\n",
            "\\end{bmatrix}\n"
          ],
          "name": "stdout"
        },
        {
          "output_type": "execute_result",
          "data": {
            "text/html": [
              "<pre style=\"word-wrap: normal;white-space: pre;background: #fff0;line-height: 1.1;font-family: &quot;Courier New&quot;,Courier,monospace\">     ┌───┐┌───┐┌───┐\n",
              "q_0: ┤ X ├┤ Y ├┤ Z ├\n",
              "     └───┘└───┘└───┘\n",
              "q_1: ───────────────\n",
              "                    </pre>"
            ],
            "text/plain": [
              "     ┌───┐┌───┐┌───┐\n",
              "q_0: ┤ X ├┤ Y ├┤ Z ├\n",
              "     └───┘└───┘└───┘\n",
              "q_1: ───────────────\n",
              "                    "
            ]
          },
          "metadata": {
            "tags": []
          },
          "execution_count": 189
        }
      ]
    },
    {
      "cell_type": "code",
      "metadata": {
        "id": "EkSXNLYIy6N3",
        "outputId": "e06be32a-c235-43bc-dc44-f6472b828dea",
        "colab": {
          "base_uri": "https://localhost:8080/",
          "height": 181
        }
      },
      "source": [
        "#on decomposing\n",
        "decompose('x',0)\n",
        "decompose('y',0)\n",
        "decompose('z',0)\n",
        "print(\"translated circuit and its statevector\")\n",
        "circ=circuit\n",
        "circ.global_phase=np.pi                                         #global phase of pi is needed\n",
        "atl.to_ltx(Statevector.from_instruction(circ).data)\n",
        "circ.draw()"
      ],
      "execution_count": 190,
      "outputs": [
        {
          "output_type": "stream",
          "text": [
            "translated circuit and its statevector\n",
            "\\begin{bmatrix}\n",
            " -0.00 + -1.00j & -0.00 + 0.00j &  0.00 + 0.00j &  0.00 + 0.00j\n",
            "\\end{bmatrix}\n"
          ],
          "name": "stdout"
        },
        {
          "output_type": "execute_result",
          "data": {
            "text/html": [
              "<pre style=\"word-wrap: normal;white-space: pre;background: #fff0;line-height: 1.1;font-family: &quot;Courier New&quot;,Courier,monospace\">global phase: pi\n",
              "     ┌────────┐┌───────┐┌────────┐┌───────┐   ┌────────┐\n",
              "q_0: ┤ RX(pi) ├┤ RZ(0) ├┤ RX(pi) ├┤ RZ(0) ├─■─┤ RZ(pi) ├\n",
              "     └────────┘└───────┘└────────┘└───────┘ │ └────────┘\n",
              "q_1: ───────────────────────────────────────■───────────\n",
              "                                                        </pre>"
            ],
            "text/plain": [
              "global phase: pi\n",
              "     ┌────────┐┌───────┐┌────────┐┌───────┐   ┌────────┐\n",
              "q_0: ┤ RX(pi) ├┤ RZ(0) ├┤ RX(pi) ├┤ RZ(0) ├─■─┤ RZ(pi) ├\n",
              "     └────────┘└───────┘└────────┘└───────┘ │ └────────┘\n",
              "q_1: ───────────────────────────────────────■───────────\n",
              "                                                        "
            ]
          },
          "metadata": {
            "tags": []
          },
          "execution_count": 190
        }
      ]
    },
    {
      "cell_type": "markdown",
      "metadata": {
        "id": "qrfGYVLT0aLa"
      },
      "source": [
        "As we can see there are 3 gates in original circuit and 5 in translated circuit.So there is a overhead of 2.\n",
        "It can be simplified if we use RX(pi),RZ(0),RX(pi)\n",
        "IT IS SHOWN BELOW\n",
        "we can also reduce overhead by using identities to simplify the circuit"
      ]
    },
    {
      "cell_type": "code",
      "metadata": {
        "id": "4QSJrvYR0MeN",
        "outputId": "5f5fcdeb-2ff6-4f42-b9d4-00456f5f5989",
        "colab": {
          "base_uri": "https://localhost:8080/",
          "height": 181
        }
      },
      "source": [
        "#all gates we want to apply\n",
        "circ=QuantumCircuit(2)                           #here circ is the original circuit in which required gates are applied                        #circuit is taken for our code\n",
        "circ.rx(np.pi,0)\n",
        "circ.rz(0,0)\n",
        "circ.rx(np.pi,0)\n",
        "circ.rz(np.pi,0)\n",
        "circ.global_phase=np.pi \n",
        "print(\"old circuit and its statevextor\")\n",
        "atl.to_ltx(Statevector.from_instruction(circ).data)\n",
        "circ.draw()\n"
      ],
      "execution_count": 191,
      "outputs": [
        {
          "output_type": "stream",
          "text": [
            "old circuit and its statevextor\n",
            "\\begin{bmatrix}\n",
            " -0.00 + -1.00j & -0.00 + 0.00j &  0.00 + 0.00j &  0.00 + 0.00j\n",
            "\\end{bmatrix}\n"
          ],
          "name": "stdout"
        },
        {
          "output_type": "execute_result",
          "data": {
            "text/html": [
              "<pre style=\"word-wrap: normal;white-space: pre;background: #fff0;line-height: 1.1;font-family: &quot;Courier New&quot;,Courier,monospace\">global phase: pi\n",
              "     ┌────────┐┌───────┐┌────────┐┌────────┐\n",
              "q_0: ┤ RX(pi) ├┤ RZ(0) ├┤ RX(pi) ├┤ RZ(pi) ├\n",
              "     └────────┘└───────┘└────────┘└────────┘\n",
              "q_1: ───────────────────────────────────────\n",
              "                                            </pre>"
            ],
            "text/plain": [
              "global phase: pi\n",
              "     ┌────────┐┌───────┐┌────────┐┌────────┐\n",
              "q_0: ┤ RX(pi) ├┤ RZ(0) ├┤ RX(pi) ├┤ RZ(pi) ├\n",
              "     └────────┘└───────┘└────────┘└────────┘\n",
              "q_1: ───────────────────────────────────────\n",
              "                                            "
            ]
          },
          "metadata": {
            "tags": []
          },
          "execution_count": 191
        }
      ]
    },
    {
      "cell_type": "code",
      "metadata": {
        "id": "9J3GMacu1VIn"
      },
      "source": [
        ""
      ],
      "execution_count": 191,
      "outputs": []
    }
  ]
}